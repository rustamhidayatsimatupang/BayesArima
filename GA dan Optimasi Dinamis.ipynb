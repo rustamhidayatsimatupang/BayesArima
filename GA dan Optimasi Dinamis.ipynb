{
  "nbformat": 4,
  "nbformat_minor": 0,
  "metadata": {
    "colab": {
      "provenance": [],
      "include_colab_link": true
    },
    "kernelspec": {
      "name": "python3",
      "display_name": "Python 3"
    },
    "language_info": {
      "name": "python"
    }
  },
  "cells": [
    {
      "cell_type": "markdown",
      "metadata": {
        "id": "view-in-github",
        "colab_type": "text"
      },
      "source": [
        "<a href=\"https://colab.research.google.com/github/rustamhidayatsimatupang/BayesArima/blob/main/GA%20dan%20Optimasi%20Dinamis.ipynb\" target=\"_parent\"><img src=\"https://colab.research.google.com/assets/colab-badge.svg\" alt=\"Open In Colab\"/></a>"
      ]
    },
    {
      "cell_type": "code",
      "execution_count": null,
      "metadata": {
        "id": "ydONDMoQh_ls"
      },
      "outputs": [],
      "source": [
        "import numpy as np\n",
        "import random\n"
      ]
    },
    {
      "cell_type": "markdown",
      "source": [
        "**Algoritma Genetika**"
      ],
      "metadata": {
        "id": "l64-it1hGADZ"
      }
    },
    {
      "cell_type": "code",
      "source": [
        "# Definisi fungsi tujuan\n",
        "def objective_function(x):\n",
        " return -1 * (x[0] ** 2 + x[1] ** 2) # Contoh: fungsi maksimalisasi\n",
        "\n",
        "# Inisialisasi populasi\n",
        "def initialize_population(size, bounds):\n",
        " population = np.random.uniform(bounds[0], bounds[1], (size, len(bounds)))\n",
        " return population\n",
        "# Seleksi\n",
        "def selection(population, scores):\n",
        " probabilities = scores / np.sum(scores)\n",
        " selected_indices = np.random.choice(range(len(population)), size=len(population), p=probabilities)\n",
        " return population[selected_indices]\n"
      ],
      "metadata": {
        "id": "cmyWoLN7inpO"
      },
      "execution_count": null,
      "outputs": []
    },
    {
      "cell_type": "code",
      "source": [
        "# Persilangan\n",
        "def crossover(parent1, parent2):\n",
        " point = random.randint(1, len(parent1) - 1)\n",
        " return np.concatenate((parent1[:point], parent2[point:]))\n",
        "# Mutasi\n",
        "def mutate(individual, mutation_rate):\n",
        " if random.random() < mutation_rate:\n",
        "  index = random.randint(0, len(individual) - 1)\n",
        "  individual[index] = random.uniform(-10, 10) # Ubah nilai gen\n",
        " return individual\n"
      ],
      "metadata": {
        "id": "4_zd6RImisaM"
      },
      "execution_count": null,
      "outputs": []
    },
    {
      "cell_type": "code",
      "source": [
        "def local_search(individual, step_size=0.1, iterations=10):\n",
        "    best = individual\n",
        "    best_score = objective_function(individual)\n",
        "    for _ in range(iterations):\n",
        "        neighbor = best + np.random.uniform(-step_size, step_size, size=len(individual))\n",
        "        score = objective_function(neighbor)\n",
        "        if score > best_score:\n",
        "            best = neighbor\n",
        "            best_score = score\n",
        "    return best\n"
      ],
      "metadata": {
        "id": "Qyl9Z-kNiu_D"
      },
      "execution_count": null,
      "outputs": []
    },
    {
      "cell_type": "code",
      "source": [
        "def genetic_algorithm(pop_size, gen_count, bounds, mutation_rate):\n",
        "    population = initialize_population(pop_size, bounds)\n",
        "\n",
        "    for _ in range(gen_count):\n",
        "        scores = np.array([objective_function(ind) for ind in population])\n",
        "        population = selection(population, scores)\n",
        "        for i in range(len(population)):\n",
        "            if random.random() < 0.5:  # 50% chance of crossover\n",
        "                parent2 = population[random.randint(0, len(population) - 1)]\n",
        "                population[i] = crossover(population[i], parent2)\n",
        "            population[i] = mutate(population[i], mutation_rate)\n",
        "            population[i] = local_search(population[i])\n",
        "        best_index = np.argmax([objective_function(ind) for ind in population])\n",
        "    return population[best_index], objective_function(population[best_index])\n",
        "\n",
        "# Settings and execution\n",
        "bounds = (-10, 10)\n",
        "best_solution, best_score = genetic_algorithm(pop_size=100, gen_count=100, bounds=bounds,\n",
        "                                           mutation_rate=0.1)\n",
        "print(\"Best Solution:\", best_solution)\n",
        "print(\"Best Score:\", best_score)"
      ],
      "metadata": {
        "colab": {
          "base_uri": "https://localhost:8080/"
        },
        "id": "ElSKn6Sdi4pg",
        "outputId": "5c65acba-890c-4f29-c349-b16ae4693e23"
      },
      "execution_count": null,
      "outputs": [
        {
          "output_type": "stream",
          "name": "stdout",
          "text": [
            "Best Solution: [-4.3383673   1.64999144]\n",
            "Best Score: -21.543902544472918\n"
          ]
        }
      ]
    },
    {
      "cell_type": "markdown",
      "source": [
        "**Optimasi Dinamis**"
      ],
      "metadata": {
        "id": "H3EeDG3IGQbo"
      }
    },
    {
      "cell_type": "code",
      "source": [
        "import numpy as np\n"
      ],
      "metadata": {
        "colab": {
          "base_uri": "https://localhost:8080/"
        },
        "id": "XyjaeNjSGZlc",
        "outputId": "6f76efef-dfea-4701-b5e3-68c22c80a2ca"
      },
      "execution_count": 3,
      "outputs": [
        {
          "output_type": "stream",
          "name": "stdout",
          "text": [
            "Value function at time t=0 and wealth W0:\n",
            "18.562406959185253\n"
          ]
        }
      ]
    },
    {
      "cell_type": "code",
      "source": [
        "def utility(c):\n",
        " return np.log(c)\n",
        "def bellman_value_function(W, beta, T):\n",
        " V = np.zeros((T + 1, W + 1)) # Value function array\n",
        " # Iterate backwards through time\n",
        " for t in range(T - 1, -1, -1):\n",
        "  for w in range(1, W + 1): # Wealth levels from 1 to W\n",
        "    max_value = -np.inf\n",
        "    # Test different consumption levels\n",
        "    for c in range(1, w + 1):\n",
        "      future_wealth = w - c\n",
        "      if future_wealth >= 0:\n",
        "        value = utility(c) + beta * V[t + 1, future_wealth]\n",
        "        max_value = max(max_value, value)\n",
        "    V[t, w] = max_value # Store max value for each state\n",
        " return V\n"
      ],
      "metadata": {
        "id": "ieOcM5TtG1CG"
      },
      "execution_count": null,
      "outputs": []
    },
    {
      "cell_type": "code",
      "source": [
        "# Parameters\n",
        "W0 = 100 # Initial wealth\n",
        "T = 10 # Time periods\n",
        "beta = 0.95 # Discount factor"
      ],
      "metadata": {
        "id": "ZpG2Cq31G6g7"
      },
      "execution_count": null,
      "outputs": []
    },
    {
      "cell_type": "code",
      "source": [
        "# Calculate value function\n",
        "value_function = bellman_value_function(W0, beta, T)\n",
        "# Display value function for time t=0 and initial wealth W0\n",
        "print(\"Value function at time t=0 and wealth W0:\")\n",
        "print(value_function[0, W0])"
      ],
      "metadata": {
        "id": "X3RwOq9GG9u7"
      },
      "execution_count": null,
      "outputs": []
    }
  ]
}